{
 "cells": [
  {
   "cell_type": "markdown",
   "metadata": {},
   "source": [
    "# Python Insights - Analisando Dados com Python\n",
    "\n",
    "### Case - Cancelamento de Clientes\n",
    "\n",
    "Você foi contratado por uma empresa com mais de 800 mil clientes para um projeto de Dados. Recentemente a empresa percebeu que da sua base total de clientes, a maioria são clientes inativos, ou seja, que já cancelaram o serviço.\n",
    "\n",
    "Precisando melhorar seus resultados ela quer conseguir entender os principais motivos desses cancelamentos e quais as ações mais eficientes para reduzir esse número.\n",
    "\n",
    "Base de dados e arquivos: https://drive.google.com/drive/folders/1uDesZePdkhiraJmiyeZ-w5tfc8XsNYFZ?usp=drive_link"
   ]
  },
  {
   "cell_type": "code",
   "execution_count": null,
   "metadata": {},
   "outputs": [],
   "source": [
    "# Passo a passo do projeto\n",
    "# Passo 1: Importar a base de dados\n",
    "# Passo 2: Visualizar a base de dados\n",
    "# Passo 3: Tratamento de erros\n",
    "# Passo 4: Análise inicial dos dados\n",
    "# Paso 5: Análise profunda da base de dados (encontrar a causa)"
   ]
  },
  {
   "cell_type": "code",
   "execution_count": 1,
   "metadata": {},
   "outputs": [],
   "source": [
    "# Passo 1:\n",
    "import pandas #Serve para acessar uma base de dados\n",
    "\n",
    "tabela = pandas.read_csv(\"cancelamentos.csv\") # Ler a base de dados passada\n"
   ]
  },
  {
   "cell_type": "code",
   "execution_count": null,
   "metadata": {},
   "outputs": [],
   "source": [
    "# Passo 2: Visualizar a base de dados\n",
    "display(tabela) # Mostra a base de dados"
   ]
  },
  {
   "cell_type": "code",
   "execution_count": null,
   "metadata": {},
   "outputs": [],
   "source": [
    "# Passo 3: Tratamento de erros\n",
    "display(tabela.info()) # Mostra a base de dados detalhado\n",
    "\n",
    "tabela = tabela.dropna() # Deletar valores vazios\n",
    "display(tabela.info()) # Mostra a base de dados detalhado\n",
    "tabela = tabela.drop(\"CustomerID\", axis=1) # Exluir linha ou coluna. para linha o axis= 0; para coluna axis= 1. Neste caso esta excluindo a coluna CustomerID\n",
    "# Pode excluir mais de uma ao mesmo tempo usando lista. exemplo: [\"CustomerID\", \"idade\"]"
   ]
  },
  {
   "cell_type": "code",
   "execution_count": null,
   "metadata": {},
   "outputs": [],
   "source": [
    "# Passo 4: Análise inicial dos dados (entendendo como estão os cancelamentos)\n",
    "\n",
    "display(tabela[\"cancelou\"].value_counts()) # Conta os valores da coluna\n",
    "display(tabela[\"cancelou\"].value_counts(normalize=True).map(\"{:.1%}\".format)) # Conta os valores da coluna e mostra em percentual\n"
   ]
  },
  {
   "cell_type": "code",
   "execution_count": null,
   "metadata": {},
   "outputs": [],
   "source": [
    "# Passo 4: Análise inicial dos dados (entendendo como estão os cancelamentos)\n",
    "\n",
    "display(tabela[\"duracao_contrato\"].value_counts()) # Conta os valores da coluna\n",
    "display(tabela[\"duracao_contrato\"].value_counts(normalize=True).map(\"{:.1%}\".format)) # Conta os valores da coluna e mostra em percentual"
   ]
  },
  {
   "cell_type": "code",
   "execution_count": null,
   "metadata": {},
   "outputs": [],
   "source": [
    "display(tabela.groupby(\"duracao_contrato\").count()) # count faz conta e mean faz média\n",
    "display(tabela.groupby(\"duracao_contrato\").mean(numeric_only=True))"
   ]
  },
  {
   "cell_type": "code",
   "execution_count": null,
   "metadata": {},
   "outputs": [],
   "source": [
    "tabela = tabela[tabela[\"duracao_contrato\"] != \"Monthly\"]\n",
    "# Ver a base de cancelamento sem o mensal\n",
    "display(tabela[\"duracao_contrato\"].value_counts(normalize=True).map(\"{:.1%}\".format)) # Conta os valores da coluna e mostra em percentual"
   ]
  },
  {
   "cell_type": "code",
   "execution_count": null,
   "metadata": {},
   "outputs": [],
   "source": [
    "# Paso 5: Análise profunda da base de dados (encontrar a causa)\n",
    "import plotly.express as px #Biblioteca para exibir graficos\n",
    "\n",
    "for coluna in tabela.columns:\n",
    "    grafico = px.histogram(tabela, x=coluna, color=\"cancelou\") # cria as colunas separadas\n",
    "    grafico.show()"
   ]
  },
  {
   "cell_type": "code",
   "execution_count": null,
   "metadata": {},
   "outputs": [],
   "source": [
    "# ligacoes de call center\n",
    "# dias de atraso\n",
    "\n",
    "tabela = tabela[tabela[\"ligacoes_callcenter\"]<5]\n",
    "\n",
    "tabela = tabela[tabela[\"dias_atraso\"]<20]\n",
    "\n",
    "# Ver a base de cancelamento \n",
    "display(tabela[\"cancelou\"].value_counts(normalize=True).map(\"{:.1%}\".format)) # Conta os valores da coluna e mostra em percentual"
   ]
  },
  {
   "cell_type": "code",
   "execution_count": null,
   "metadata": {},
   "outputs": [],
   "source": [
    "# Após essa analise, é evidente que existe um problema para os clientes que ligam mais de 5 vezes no callcenter e para os clientes que estao com atraso maior de 20"
   ]
  }
 ],
 "metadata": {
  "kernelspec": {
   "display_name": "base",
   "language": "python",
   "name": "python3"
  },
  "language_info": {
   "codemirror_mode": {
    "name": "ipython",
    "version": 3
   },
   "file_extension": ".py",
   "mimetype": "text/x-python",
   "name": "python",
   "nbconvert_exporter": "python",
   "pygments_lexer": "ipython3",
   "version": "3.11.4"
  },
  "orig_nbformat": 4
 },
 "nbformat": 4,
 "nbformat_minor": 2
}
